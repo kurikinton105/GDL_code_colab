{
  "nbformat": 4,
  "nbformat_minor": 0,
  "metadata": {
    "kernelspec": {
      "name": "python3",
      "display_name": "Python 3"
    },
    "colab": {
      "name": "07_02_lstm_compose_train.ipynb",
      "provenance": [],
      "include_colab_link": true
    },
    "accelerator": "TPU"
  },
  "cells": [
    {
      "cell_type": "markdown",
      "metadata": {
        "id": "view-in-github",
        "colab_type": "text"
      },
      "source": [
        "<a href=\"https://colab.research.google.com/github/kurikinton105/GDL_code_colab/blob/main/07_02_lstm_compose_train.ipynb\" target=\"_parent\"><img src=\"https://colab.research.google.com/assets/colab-badge.svg\" alt=\"Open In Colab\"/></a>"
      ]
    },
    {
      "cell_type": "markdown",
      "metadata": {
        "id": "KuG0dItwhCb5"
      },
      "source": [
        "# Compose: Training a model to generate music"
      ]
    },
    {
      "cell_type": "code",
      "metadata": {
        "id": "UfMzMsLEhLyU",
        "colab": {
          "base_uri": "https://localhost:8080/",
          "height": 54
        },
        "outputId": "e918e2b5-ebbc-4f28-8654-99f6156ccabe"
      },
      "source": [
        "from google.colab import drive\n",
        "drive.mount('/content/drive')\n",
        "\n",
        "\n",
        "import os\n",
        "import sys\n",
        "#sys.path.append('/content/drive/My Drive/Colab Notebooks/GDL/')\n",
        "\n"
      ],
      "execution_count": null,
      "outputs": [
        {
          "output_type": "stream",
          "text": [
            "Drive already mounted at /content/drive; to attempt to forcibly remount, call drive.mount(\"/content/drive\", force_remount=True).\n"
          ],
          "name": "stdout"
        }
      ]
    },
    {
      "cell_type": "code",
      "metadata": {
        "id": "YSlPQzhFAVqw",
        "colab": {
          "base_uri": "https://localhost:8080/",
          "height": 34
        },
        "outputId": "0fcffdfd-0218-4a74-cf3d-4e44ec0b63e7"
      },
      "source": [
        "cd /content/drive/My Drive/Colab Notebooks/GDL/"
      ],
      "execution_count": null,
      "outputs": [
        {
          "output_type": "stream",
          "text": [
            "/content/drive/My Drive/Colab Notebooks/GDL\n"
          ],
          "name": "stdout"
        }
      ]
    },
    {
      "cell_type": "code",
      "metadata": {
        "id": "brLOJaQWAWFS",
        "colab": {
          "base_uri": "https://localhost:8080/",
          "height": 765
        },
        "outputId": "ad07b5cf-ec9e-469f-aab7-84a3127af569"
      },
      "source": [
        "!ls"
      ],
      "execution_count": null,
      "outputs": [
        {
          "output_type": "stream",
          "text": [
            " 02_01_deep_learning_deep_neural_network2.ipynb\n",
            " 02_01_deep_learning_deep_neural_networkのコピー.ipynb\n",
            " 02_02_deep_learning_convolutions.ipynb\n",
            " 02_03_deep_learning_conv_neural_network.ipynb\n",
            " 03_01_autoencoder_train.ipynb\n",
            " 03_02_autoencoder_analysis.ipynb\n",
            " 03_03_vae_digits_train.ipynb\n",
            " 03_04_vae_digits_analysis.ipynb\n",
            " 03_05_vae_faces_train.ipynb\n",
            " 03_06_vae_faces_analysis.ipynb\n",
            " 04_01_gan_camel_train.ipynb\n",
            " 04_02_wgan_cifar_train.ipynb\n",
            " 04_03_wgangp_faces_train.ipynb\n",
            " 05_01_cyclegan_train.ipynb\n",
            " 06_01_lstm_text_train.ipynb\n",
            " 06_02_qa_train.ipynb\n",
            " 06_03_qa_analysis.ipynb\n",
            " 07_01_notation_compose.ipynb\n",
            " 07_02_lstm_compose_train.ipynb\n",
            " 07_03_lstm_compose_predict.ipynb\n",
            " 07_04_musegan_train.ipynb\n",
            " 07_05_musegan_analysis.ipynb\n",
            " 09_01_positional_encoding.ipynb\n",
            "'beTF2.0.0_2_01_deep_learning_deep_neural_network.ipynb のコピー'\n",
            " data\n",
            " Dockerfile.cpu\n",
            " Dockerfile.gpu\n",
            " keras\n",
            " launch-docker-cpu.sh\n",
            " launch-docker-gpu.sh\n",
            " LICENSE\n",
            " model.png\n",
            " models\n",
            " README.md\n",
            " requirements.txt\n",
            " results\n",
            " run\n",
            " scripts\n",
            "'TF1.15.2_02_01_deep_learning_deep_neural_network.ipynb のコピー'\n",
            " TF2.0.0_2_01_deep_learning_deep_neural_network.ipynb\n",
            " TF2.1.0_2_01_deep_learning_deep_neural_network.ipynb\n",
            " TF.2_2_0_2_01_deep_learning_deep_neural_network.ipynb\n",
            " Untitled0.ipynb\n",
            " utils\n"
          ],
          "name": "stdout"
        }
      ]
    },
    {
      "cell_type": "code",
      "metadata": {
        "id": "wif1PX20hCb6"
      },
      "source": [
        "import os\n",
        "import pickle\n",
        "import numpy\n",
        "from music21 import note, chord\n",
        "\n",
        "from tensorflow.keras.callbacks import ModelCheckpoint, EarlyStopping\n",
        "from tensorflow.keras.utils import plot_model\n",
        "\n",
        "from models.RNNAttention import get_distinct, create_lookups, prepare_sequences, get_music_list, create_network\n",
        "base = \"/content/drive/My Drive/Colab Notebooks/GDL/\""
      ],
      "execution_count": null,
      "outputs": []
    },
    {
      "cell_type": "markdown",
      "metadata": {
        "id": "7m2Ty3mbhCb9"
      },
      "source": [
        "## Set parameters"
      ]
    },
    {
      "cell_type": "code",
      "metadata": {
        "id": "jDbSL02mhCb-",
        "colab": {
          "base_uri": "https://localhost:8080/",
          "height": 34
        },
        "outputId": "5c14bb3c-083c-476c-ea73-9a4a91bfcf8b"
      },
      "source": [
        "# run params\n",
        "section = 'compose'\n",
        "run_id = '0006'\n",
        "music_name = 'mirai'\n",
        "\n",
        "run_folder = 'run/{}/'.format(section)\n",
        "run_folder += '_'.join([run_id, music_name])\n",
        "\n",
        "\n",
        "store_folder = os.path.join(run_folder, 'store')\n",
        "data_folder = base +os.path.join('data', music_name)\n",
        "print(data_folder)\n",
        "\n",
        "if not os.path.exists(run_folder):\n",
        "    os.mkdir(run_folder)\n",
        "    os.mkdir(os.path.join(run_folder, 'store'))\n",
        "    os.mkdir(os.path.join(run_folder, 'output'))\n",
        "    os.mkdir(os.path.join(run_folder, 'weights'))\n",
        "    os.mkdir(os.path.join(run_folder, 'viz'))\n",
        "    \n",
        "\n",
        "\n",
        "mode = 'build' # 'load' # \n",
        "\n",
        "# data params\n",
        "intervals = range(1)\n",
        "seq_len = 32\n",
        "\n",
        "# model params\n",
        "embed_size = 100\n",
        "rnn_units = 256\n",
        "use_attention = True"
      ],
      "execution_count": null,
      "outputs": [
        {
          "output_type": "stream",
          "text": [
            "/content/drive/My Drive/Colab Notebooks/GDL/data/mirai\n"
          ],
          "name": "stdout"
        }
      ]
    },
    {
      "cell_type": "markdown",
      "metadata": {
        "id": "4qYjvKT7hCcA"
      },
      "source": [
        "## Extract the notes"
      ]
    },
    {
      "cell_type": "code",
      "metadata": {
        "id": "-uGI8GtlhCcA",
        "colab": {
          "base_uri": "https://localhost:8080/",
          "height": 51
        },
        "outputId": "8345b0bb-03fb-4fee-819c-fec5757979aa"
      },
      "source": [
        "if mode == 'build':\n",
        "    \n",
        "    music_list, parser = get_music_list(data_folder)\n",
        "    print(len(music_list), 'files in total')\n",
        "\n",
        "    notes = []\n",
        "    durations = []\n",
        "\n",
        "    for i, file in enumerate(music_list):\n",
        "        print(i+1, \"Parsing %s\" % file)\n",
        "        original_score = parser.parse(file).chordify()\n",
        "        \n",
        "\n",
        "        for interval in intervals:\n",
        "\n",
        "            score = original_score.transpose(interval)\n",
        "\n",
        "            notes.extend(['START'] * seq_len)\n",
        "            durations.extend([0]* seq_len)\n",
        "\n",
        "            for element in score.flat:\n",
        "                \n",
        "                if isinstance(element, note.Note):\n",
        "                    if element.isRest:\n",
        "                        notes.append(str(element.name))\n",
        "                        durations.append(element.duration.quarterLength)\n",
        "                    else:\n",
        "                        notes.append(str(element.nameWithOctave))\n",
        "                        durations.append(element.duration.quarterLength)\n",
        "\n",
        "                if isinstance(element, chord.Chord):\n",
        "                    notes.append('.'.join(n.nameWithOctave for n in element.pitches))\n",
        "                    durations.append(element.duration.quarterLength)\n",
        "\n",
        "    with open(os.path.join(store_folder, 'notes'), 'wb') as f:\n",
        "        pickle.dump(notes, f) #['G2', 'D3', 'B3', 'A3', 'B3', 'D3', 'B3', 'D3', 'G2',...]\n",
        "    with open(os.path.join(store_folder, 'durations'), 'wb') as f:\n",
        "        pickle.dump(durations, f) \n",
        "else:\n",
        "    with open(os.path.join(store_folder, 'notes'), 'rb') as f:\n",
        "        notes = pickle.load(f) #['G2', 'D3', 'B3', 'A3', 'B3', 'D3', 'B3', 'D3', 'G2',...]\n",
        "    with open(os.path.join(store_folder, 'durations'), 'rb') as f:\n",
        "        durations = pickle.load(f) "
      ],
      "execution_count": null,
      "outputs": [
        {
          "output_type": "stream",
          "text": [
            "1 files in total\n",
            "1 Parsing /content/drive/My Drive/Colab Notebooks/GDL/data/mirai/mirai.mid\n"
          ],
          "name": "stdout"
        }
      ]
    },
    {
      "cell_type": "markdown",
      "metadata": {
        "id": "_7V8_5wxhCcD"
      },
      "source": [
        "## Create the lookup tables"
      ]
    },
    {
      "cell_type": "code",
      "metadata": {
        "id": "nY7GRtg9hCcD"
      },
      "source": [
        "# get the distinct sets of notes and durations\n",
        "note_names, n_notes = get_distinct(notes)\n",
        "duration_names, n_durations = get_distinct(durations)\n",
        "distincts = [note_names, n_notes, duration_names, n_durations]\n",
        "\n",
        "with open(os.path.join(store_folder, 'distincts'), 'wb') as f:\n",
        "    pickle.dump(distincts, f)\n",
        "\n",
        "# make the lookup dictionaries for notes and dictionaries and save\n",
        "note_to_int, int_to_note = create_lookups(note_names)\n",
        "duration_to_int, int_to_duration = create_lookups(duration_names)\n",
        "lookups = [note_to_int, int_to_note, duration_to_int, int_to_duration]\n",
        "\n",
        "with open(os.path.join(store_folder, 'lookups'), 'wb') as f:\n",
        "    pickle.dump(lookups, f)"
      ],
      "execution_count": null,
      "outputs": []
    },
    {
      "cell_type": "code",
      "metadata": {
        "id": "iKAxiGY7hCcF",
        "colab": {
          "base_uri": "https://localhost:8080/",
          "height": 306
        },
        "outputId": "a044a89c-bfc1-4941-f7f0-8f2cd713d34a"
      },
      "source": [
        "print('\\nnote_to_int')\n",
        "note_to_int"
      ],
      "execution_count": null,
      "outputs": [
        {
          "output_type": "stream",
          "text": [
            "\n",
            "note_to_int\n"
          ],
          "name": "stdout"
        },
        {
          "output_type": "execute_result",
          "data": {
            "text/plain": [
              "{'A4': 0,\n",
              " 'B-4': 1,\n",
              " 'B4': 2,\n",
              " 'C#4': 3,\n",
              " 'C#5': 4,\n",
              " 'C5': 5,\n",
              " 'D4': 6,\n",
              " 'D5': 7,\n",
              " 'E4': 8,\n",
              " 'E5': 9,\n",
              " 'F#4': 10,\n",
              " 'F#5': 11,\n",
              " 'G#4': 12,\n",
              " 'G4': 13,\n",
              " 'START': 14}"
            ]
          },
          "metadata": {
            "tags": []
          },
          "execution_count": 10
        }
      ]
    },
    {
      "cell_type": "code",
      "metadata": {
        "id": "hs2wVW5mhCcI",
        "colab": {
          "base_uri": "https://localhost:8080/",
          "height": 238
        },
        "outputId": "84a421a8-e4f5-4503-f764-fbc1e26751a8"
      },
      "source": [
        "print('\\nduration_to_int')\n",
        "duration_to_int"
      ],
      "execution_count": null,
      "outputs": [
        {
          "output_type": "stream",
          "text": [
            "\n",
            "duration_to_int\n"
          ],
          "name": "stdout"
        },
        {
          "output_type": "execute_result",
          "data": {
            "text/plain": [
              "{0: 0,\n",
              " 0.25: 1,\n",
              " 0.5: 2,\n",
              " 0.75: 3,\n",
              " 1.0: 4,\n",
              " 1.25: 5,\n",
              " 1.5: 6,\n",
              " 2.0: 7,\n",
              " 2.75: 8,\n",
              " Fraction(10, 3): 9,\n",
              " 3.75: 10}"
            ]
          },
          "metadata": {
            "tags": []
          },
          "execution_count": 11
        }
      ]
    },
    {
      "cell_type": "markdown",
      "metadata": {
        "id": "7ccR_3IIhCcK"
      },
      "source": [
        "## Prepare the sequences used by the Neural Network"
      ]
    },
    {
      "cell_type": "code",
      "metadata": {
        "id": "h-uqUGpahCcL"
      },
      "source": [
        "network_input, network_output = prepare_sequences(notes, durations, lookups, distincts, seq_len)"
      ],
      "execution_count": null,
      "outputs": []
    },
    {
      "cell_type": "code",
      "metadata": {
        "id": "vrBfTqybhCcN",
        "colab": {
          "base_uri": "https://localhost:8080/",
          "height": 170
        },
        "outputId": "f88300e7-7139-4e7a-b243-f6ace4532d49"
      },
      "source": [
        "print('pitch input')\n",
        "print(network_input[0][0])\n",
        "print('duration input')\n",
        "print(network_input[1][0])\n",
        "print('pitch output')\n",
        "print(network_output[0][0])\n",
        "print('duration output')\n",
        "print(network_output[1][0])"
      ],
      "execution_count": null,
      "outputs": [
        {
          "output_type": "stream",
          "text": [
            "pitch input\n",
            "[14 14 14 14 14 14 14 14 14 14 14 14 14 14 14 14 14 14 14 14 14 14 14 14\n",
            " 14 14 14 14 14 14 14 14]\n",
            "duration input\n",
            "[0 0 0 0 0 0 0 0 0 0 0 0 0 0 0 0 0 0 0 0 0 0 0 0 0 0 0 0 0 0 0 0]\n",
            "pitch output\n",
            "[0. 0. 0. 0. 0. 0. 0. 0. 0. 0. 1. 0. 0. 0. 0.]\n",
            "duration output\n",
            "[0. 1. 0. 0. 0. 0. 0. 0. 0. 0. 0.]\n"
          ],
          "name": "stdout"
        }
      ]
    },
    {
      "cell_type": "markdown",
      "metadata": {
        "id": "u7ZBdNaAhCcP"
      },
      "source": [
        "## Create the structure of the neural network"
      ]
    },
    {
      "cell_type": "code",
      "metadata": {
        "id": "XTJRvq6ihCcQ",
        "colab": {
          "base_uri": "https://localhost:8080/",
          "height": 751
        },
        "outputId": "db0cc8fb-f081-4162-97ad-3109f0dd194e"
      },
      "source": [
        "model, att_model = create_network(n_notes, n_durations, embed_size, rnn_units, use_attention)\n",
        "model.summary()"
      ],
      "execution_count": null,
      "outputs": [
        {
          "output_type": "stream",
          "text": [
            "Model: \"model\"\n",
            "__________________________________________________________________________________________________\n",
            "Layer (type)                    Output Shape         Param #     Connected to                     \n",
            "==================================================================================================\n",
            "input_1 (InputLayer)            [(None, None)]       0                                            \n",
            "__________________________________________________________________________________________________\n",
            "input_2 (InputLayer)            [(None, None)]       0                                            \n",
            "__________________________________________________________________________________________________\n",
            "embedding (Embedding)           (None, None, 100)    1500        input_1[0][0]                    \n",
            "__________________________________________________________________________________________________\n",
            "embedding_1 (Embedding)         (None, None, 100)    1100        input_2[0][0]                    \n",
            "__________________________________________________________________________________________________\n",
            "concatenate (Concatenate)       (None, None, 200)    0           embedding[0][0]                  \n",
            "                                                                 embedding_1[0][0]                \n",
            "__________________________________________________________________________________________________\n",
            "lstm (LSTM)                     (None, None, 256)    467968      concatenate[0][0]                \n",
            "__________________________________________________________________________________________________\n",
            "lstm_1 (LSTM)                   (None, None, 256)    525312      lstm[0][0]                       \n",
            "__________________________________________________________________________________________________\n",
            "dense (Dense)                   (None, None, 1)      257         lstm_1[0][0]                     \n",
            "__________________________________________________________________________________________________\n",
            "reshape (Reshape)               (None, None)         0           dense[0][0]                      \n",
            "__________________________________________________________________________________________________\n",
            "activation (Activation)         (None, None)         0           reshape[0][0]                    \n",
            "__________________________________________________________________________________________________\n",
            "repeat_vector (RepeatVector)    (None, 256, None)    0           activation[0][0]                 \n",
            "__________________________________________________________________________________________________\n",
            "permute (Permute)               (None, None, 256)    0           repeat_vector[0][0]              \n",
            "__________________________________________________________________________________________________\n",
            "multiply (Multiply)             (None, None, 256)    0           lstm_1[0][0]                     \n",
            "                                                                 permute[0][0]                    \n",
            "__________________________________________________________________________________________________\n",
            "lambda (Lambda)                 (None, 256)          0           multiply[0][0]                   \n",
            "__________________________________________________________________________________________________\n",
            "pitch (Dense)                   (None, 15)           3855        lambda[0][0]                     \n",
            "__________________________________________________________________________________________________\n",
            "duration (Dense)                (None, 11)           2827        lambda[0][0]                     \n",
            "==================================================================================================\n",
            "Total params: 1,002,819\n",
            "Trainable params: 1,002,819\n",
            "Non-trainable params: 0\n",
            "__________________________________________________________________________________________________\n"
          ],
          "name": "stdout"
        }
      ]
    },
    {
      "cell_type": "code",
      "metadata": {
        "id": "TciqFspphCcS",
        "colab": {
          "base_uri": "https://localhost:8080/",
          "height": 331
        },
        "outputId": "0c4351c4-be61-4916-f5ca-bc00ff6dd0ae"
      },
      "source": [
        "plot_model(model, to_file=os.path.join(run_folder ,'viz/model.png'), show_shapes = True, show_layer_names = True)"
      ],
      "execution_count": null,
      "outputs": [
        {
          "output_type": "error",
          "ename": "AttributeError",
          "evalue": "ignored",
          "traceback": [
            "\u001b[0;31m---------------------------------------------------------------------------\u001b[0m",
            "\u001b[0;31mAttributeError\u001b[0m                            Traceback (most recent call last)",
            "\u001b[0;32m<ipython-input-15-03d2bd004a93>\u001b[0m in \u001b[0;36m<module>\u001b[0;34m()\u001b[0m\n\u001b[0;32m----> 1\u001b[0;31m \u001b[0mplot_model\u001b[0m\u001b[0;34m(\u001b[0m\u001b[0mmodel\u001b[0m\u001b[0;34m,\u001b[0m \u001b[0mto_file\u001b[0m\u001b[0;34m=\u001b[0m\u001b[0mos\u001b[0m\u001b[0;34m.\u001b[0m\u001b[0mpath\u001b[0m\u001b[0;34m.\u001b[0m\u001b[0mjoin\u001b[0m\u001b[0;34m(\u001b[0m\u001b[0mrun_folder\u001b[0m \u001b[0;34m,\u001b[0m\u001b[0;34m'viz/model.png'\u001b[0m\u001b[0;34m)\u001b[0m\u001b[0;34m,\u001b[0m \u001b[0mshow_shapes\u001b[0m \u001b[0;34m=\u001b[0m \u001b[0;32mTrue\u001b[0m\u001b[0;34m,\u001b[0m \u001b[0mshow_layer_names\u001b[0m \u001b[0;34m=\u001b[0m \u001b[0;32mTrue\u001b[0m\u001b[0;34m)\u001b[0m\u001b[0;34m\u001b[0m\u001b[0;34m\u001b[0m\u001b[0m\n\u001b[0m",
            "\u001b[0;32m/usr/local/lib/python3.6/dist-packages/tensorflow/python/keras/utils/vis_utils.py\u001b[0m in \u001b[0;36mplot_model\u001b[0;34m(model, to_file, show_shapes, show_layer_names, rankdir, expand_nested, dpi)\u001b[0m\n\u001b[1;32m    281\u001b[0m                      \u001b[0mrankdir\u001b[0m\u001b[0;34m=\u001b[0m\u001b[0mrankdir\u001b[0m\u001b[0;34m,\u001b[0m\u001b[0;34m\u001b[0m\u001b[0;34m\u001b[0m\u001b[0m\n\u001b[1;32m    282\u001b[0m                      \u001b[0mexpand_nested\u001b[0m\u001b[0;34m=\u001b[0m\u001b[0mexpand_nested\u001b[0m\u001b[0;34m,\u001b[0m\u001b[0;34m\u001b[0m\u001b[0;34m\u001b[0m\u001b[0m\n\u001b[0;32m--> 283\u001b[0;31m                      dpi=dpi)\n\u001b[0m\u001b[1;32m    284\u001b[0m   \u001b[0;32mif\u001b[0m \u001b[0mdot\u001b[0m \u001b[0;32mis\u001b[0m \u001b[0;32mNone\u001b[0m\u001b[0;34m:\u001b[0m\u001b[0;34m\u001b[0m\u001b[0;34m\u001b[0m\u001b[0m\n\u001b[1;32m    285\u001b[0m     \u001b[0;32mreturn\u001b[0m\u001b[0;34m\u001b[0m\u001b[0;34m\u001b[0m\u001b[0m\n",
            "\u001b[0;32m/usr/local/lib/python3.6/dist-packages/tensorflow/python/keras/utils/vis_utils.py\u001b[0m in \u001b[0;36mmodel_to_dot\u001b[0;34m(model, show_shapes, show_layer_names, rankdir, expand_nested, dpi, subgraph)\u001b[0m\n\u001b[1;32m    141\u001b[0m \u001b[0;34m\u001b[0m\u001b[0m\n\u001b[1;32m    142\u001b[0m     \u001b[0;31m# Append a wrapped layer's label to node's label, if it exists.\u001b[0m\u001b[0;34m\u001b[0m\u001b[0;34m\u001b[0m\u001b[0;34m\u001b[0m\u001b[0m\n\u001b[0;32m--> 143\u001b[0;31m     \u001b[0mlayer_name\u001b[0m \u001b[0;34m=\u001b[0m \u001b[0mlayer\u001b[0m\u001b[0;34m.\u001b[0m\u001b[0mname\u001b[0m\u001b[0;34m\u001b[0m\u001b[0;34m\u001b[0m\u001b[0m\n\u001b[0m\u001b[1;32m    144\u001b[0m     \u001b[0mclass_name\u001b[0m \u001b[0;34m=\u001b[0m \u001b[0mlayer\u001b[0m\u001b[0;34m.\u001b[0m\u001b[0m__class__\u001b[0m\u001b[0;34m.\u001b[0m\u001b[0m__name__\u001b[0m\u001b[0;34m\u001b[0m\u001b[0;34m\u001b[0m\u001b[0m\n\u001b[1;32m    145\u001b[0m \u001b[0;34m\u001b[0m\u001b[0m\n",
            "\u001b[0;31mAttributeError\u001b[0m: 'ListWrapper' object has no attribute 'name'"
          ]
        }
      ]
    },
    {
      "cell_type": "markdown",
      "metadata": {
        "id": "F0QC70Y1hCcU"
      },
      "source": [
        "## Train the neural network"
      ]
    },
    {
      "cell_type": "code",
      "metadata": {
        "id": "LBuVOejXhCcU"
      },
      "source": [
        "weights_folder = os.path.join(run_folder, 'weights')\n",
        "# model.load_weights(os.path.join(weights_folder, \"weights.h5\"))"
      ],
      "execution_count": null,
      "outputs": []
    },
    {
      "cell_type": "code",
      "metadata": {
        "id": "y9Uh9Nw7hCcX",
        "colab": {
          "base_uri": "https://localhost:8080/",
          "height": 1000
        },
        "outputId": "c6b9578c-e31f-4854-d526-28f2cf9ab090"
      },
      "source": [
        "weights_folder = os.path.join(run_folder, 'weights')\n",
        "\n",
        "checkpoint1 = ModelCheckpoint(\n",
        "    os.path.join(weights_folder, \"weights-improvement-{epoch:02d}-{loss:.4f}-bigger.h5\"),\n",
        "    monitor='loss',\n",
        "    verbose=0,\n",
        "    save_best_only=True,\n",
        "    mode='min'\n",
        ")\n",
        "\n",
        "checkpoint2 = ModelCheckpoint(\n",
        "    os.path.join(weights_folder, \"weights.h5\"),\n",
        "    monitor='loss',\n",
        "    verbose=0,\n",
        "    save_best_only=True,\n",
        "    mode='min'\n",
        ")\n",
        "\n",
        "early_stopping = EarlyStopping(\n",
        "    monitor='loss'\n",
        "    , restore_best_weights=True\n",
        "    , patience = 10\n",
        ")\n",
        "\n",
        "\n",
        "callbacks_list = [\n",
        "    checkpoint1\n",
        "    , checkpoint2\n",
        "    , early_stopping\n",
        " ]\n",
        "\n",
        "model.save_weights(os.path.join(weights_folder, \"weights.h5\"))\n",
        "model.fit(network_input, network_output\n",
        "          , epochs=2000000, batch_size=32\n",
        "          , validation_split = 0.2\n",
        "          , callbacks=callbacks_list\n",
        "          , shuffle=True\n",
        "         )\n",
        "\n"
      ],
      "execution_count": null,
      "outputs": [
        {
          "output_type": "stream",
          "text": [
            "Epoch 1/2000000\n",
            "9/9 [==============================] - 3s 385ms/step - loss: 4.1475 - pitch_loss: 2.4630 - duration_loss: 1.6844 - val_loss: 4.0132 - val_pitch_loss: 2.6704 - val_duration_loss: 1.3428\n",
            "Epoch 2/2000000\n",
            "9/9 [==============================] - 3s 298ms/step - loss: 3.6596 - pitch_loss: 2.2772 - duration_loss: 1.3824 - val_loss: 4.0527 - val_pitch_loss: 2.6493 - val_duration_loss: 1.4035\n",
            "Epoch 3/2000000\n",
            "9/9 [==============================] - 3s 301ms/step - loss: 3.6496 - pitch_loss: 2.2642 - duration_loss: 1.3854 - val_loss: 3.8367 - val_pitch_loss: 2.4869 - val_duration_loss: 1.3499\n",
            "Epoch 4/2000000\n",
            "9/9 [==============================] - 3s 289ms/step - loss: 3.6311 - pitch_loss: 2.2576 - duration_loss: 1.3735 - val_loss: 3.8691 - val_pitch_loss: 2.5308 - val_duration_loss: 1.3383\n",
            "Epoch 5/2000000\n",
            "9/9 [==============================] - 3s 288ms/step - loss: 3.5968 - pitch_loss: 2.2287 - duration_loss: 1.3681 - val_loss: 4.0069 - val_pitch_loss: 2.6373 - val_duration_loss: 1.3696\n",
            "Epoch 6/2000000\n",
            "9/9 [==============================] - 3s 287ms/step - loss: 3.5835 - pitch_loss: 2.2116 - duration_loss: 1.3719 - val_loss: 3.7926 - val_pitch_loss: 2.4538 - val_duration_loss: 1.3388\n",
            "Epoch 7/2000000\n",
            "9/9 [==============================] - 3s 303ms/step - loss: 3.5301 - pitch_loss: 2.1675 - duration_loss: 1.3627 - val_loss: 4.0112 - val_pitch_loss: 2.6314 - val_duration_loss: 1.3798\n",
            "Epoch 8/2000000\n",
            "9/9 [==============================] - 3s 302ms/step - loss: 3.5175 - pitch_loss: 2.1679 - duration_loss: 1.3496 - val_loss: 4.0449 - val_pitch_loss: 2.6937 - val_duration_loss: 1.3512\n",
            "Epoch 9/2000000\n",
            "9/9 [==============================] - 3s 289ms/step - loss: 3.4710 - pitch_loss: 2.1162 - duration_loss: 1.3547 - val_loss: 3.8204 - val_pitch_loss: 2.4551 - val_duration_loss: 1.3652\n",
            "Epoch 10/2000000\n",
            "9/9 [==============================] - 3s 297ms/step - loss: 3.4274 - pitch_loss: 2.0993 - duration_loss: 1.3281 - val_loss: 3.6390 - val_pitch_loss: 2.2870 - val_duration_loss: 1.3521\n",
            "Epoch 11/2000000\n",
            "9/9 [==============================] - 2s 273ms/step - loss: 3.4793 - pitch_loss: 2.1326 - duration_loss: 1.3467 - val_loss: 4.1378 - val_pitch_loss: 2.7506 - val_duration_loss: 1.3872\n",
            "Epoch 12/2000000\n",
            "9/9 [==============================] - 3s 298ms/step - loss: 3.4061 - pitch_loss: 2.0793 - duration_loss: 1.3268 - val_loss: 3.6569 - val_pitch_loss: 2.3053 - val_duration_loss: 1.3516\n",
            "Epoch 13/2000000\n",
            "9/9 [==============================] - 3s 295ms/step - loss: 3.3768 - pitch_loss: 2.0523 - duration_loss: 1.3245 - val_loss: 4.1781 - val_pitch_loss: 2.7755 - val_duration_loss: 1.4026\n",
            "Epoch 14/2000000\n",
            "9/9 [==============================] - 3s 294ms/step - loss: 3.3527 - pitch_loss: 2.0198 - duration_loss: 1.3328 - val_loss: 3.8870 - val_pitch_loss: 2.5246 - val_duration_loss: 1.3624\n",
            "Epoch 15/2000000\n",
            "9/9 [==============================] - 3s 297ms/step - loss: 3.2672 - pitch_loss: 1.9600 - duration_loss: 1.3072 - val_loss: 3.7488 - val_pitch_loss: 2.3547 - val_duration_loss: 1.3941\n",
            "Epoch 16/2000000\n",
            "9/9 [==============================] - 2s 277ms/step - loss: 3.2869 - pitch_loss: 1.9857 - duration_loss: 1.3012 - val_loss: 4.1020 - val_pitch_loss: 2.6629 - val_duration_loss: 1.4391\n",
            "Epoch 17/2000000\n",
            "9/9 [==============================] - 3s 297ms/step - loss: 3.2274 - pitch_loss: 1.9495 - duration_loss: 1.2778 - val_loss: 4.1259 - val_pitch_loss: 2.7354 - val_duration_loss: 1.3905\n",
            "Epoch 18/2000000\n",
            "9/9 [==============================] - 3s 296ms/step - loss: 3.1299 - pitch_loss: 1.8990 - duration_loss: 1.2309 - val_loss: 4.3589 - val_pitch_loss: 2.9432 - val_duration_loss: 1.4157\n",
            "Epoch 19/2000000\n",
            "9/9 [==============================] - 3s 290ms/step - loss: 3.0847 - pitch_loss: 1.8682 - duration_loss: 1.2165 - val_loss: 4.1717 - val_pitch_loss: 2.8034 - val_duration_loss: 1.3683\n",
            "Epoch 20/2000000\n",
            "9/9 [==============================] - 3s 283ms/step - loss: 3.1213 - pitch_loss: 1.8836 - duration_loss: 1.2377 - val_loss: 4.1299 - val_pitch_loss: 2.7527 - val_duration_loss: 1.3772\n",
            "Epoch 21/2000000\n",
            "9/9 [==============================] - 3s 290ms/step - loss: 3.0492 - pitch_loss: 1.8487 - duration_loss: 1.2004 - val_loss: 4.4647 - val_pitch_loss: 3.0453 - val_duration_loss: 1.4194\n",
            "Epoch 22/2000000\n",
            "9/9 [==============================] - 3s 295ms/step - loss: 2.9814 - pitch_loss: 1.7966 - duration_loss: 1.1848 - val_loss: 4.5775 - val_pitch_loss: 3.1665 - val_duration_loss: 1.4109\n",
            "Epoch 23/2000000\n",
            "9/9 [==============================] - 3s 292ms/step - loss: 2.9037 - pitch_loss: 1.7522 - duration_loss: 1.1515 - val_loss: 4.7764 - val_pitch_loss: 3.3664 - val_duration_loss: 1.4100\n",
            "Epoch 24/2000000\n",
            "9/9 [==============================] - 3s 300ms/step - loss: 2.8835 - pitch_loss: 1.7659 - duration_loss: 1.1176 - val_loss: 4.6294 - val_pitch_loss: 3.2131 - val_duration_loss: 1.4163\n",
            "Epoch 25/2000000\n",
            "9/9 [==============================] - 3s 311ms/step - loss: 2.7794 - pitch_loss: 1.6820 - duration_loss: 1.0973 - val_loss: 4.6370 - val_pitch_loss: 3.1768 - val_duration_loss: 1.4602\n",
            "Epoch 26/2000000\n",
            "9/9 [==============================] - 3s 281ms/step - loss: 2.7958 - pitch_loss: 1.6667 - duration_loss: 1.1291 - val_loss: 4.3860 - val_pitch_loss: 2.8083 - val_duration_loss: 1.5778\n",
            "Epoch 27/2000000\n",
            "9/9 [==============================] - 3s 301ms/step - loss: 2.6679 - pitch_loss: 1.6295 - duration_loss: 1.0384 - val_loss: 4.5237 - val_pitch_loss: 2.9643 - val_duration_loss: 1.5595\n",
            "Epoch 28/2000000\n",
            "9/9 [==============================] - 2s 274ms/step - loss: 2.6696 - pitch_loss: 1.6000 - duration_loss: 1.0696 - val_loss: 4.8204 - val_pitch_loss: 3.4390 - val_duration_loss: 1.3814\n",
            "Epoch 29/2000000\n",
            "9/9 [==============================] - 3s 291ms/step - loss: 2.5549 - pitch_loss: 1.5475 - duration_loss: 1.0074 - val_loss: 4.5755 - val_pitch_loss: 3.0877 - val_duration_loss: 1.4878\n",
            "Epoch 30/2000000\n",
            "9/9 [==============================] - 2s 276ms/step - loss: 2.5744 - pitch_loss: 1.5710 - duration_loss: 1.0034 - val_loss: 4.7098 - val_pitch_loss: 3.1716 - val_duration_loss: 1.5382\n",
            "Epoch 31/2000000\n",
            "9/9 [==============================] - 3s 291ms/step - loss: 2.4973 - pitch_loss: 1.5312 - duration_loss: 0.9661 - val_loss: 4.9048 - val_pitch_loss: 3.4476 - val_duration_loss: 1.4572\n",
            "Epoch 32/2000000\n",
            "9/9 [==============================] - 3s 291ms/step - loss: 2.3736 - pitch_loss: 1.4524 - duration_loss: 0.9211 - val_loss: 5.4311 - val_pitch_loss: 3.8686 - val_duration_loss: 1.5626\n",
            "Epoch 33/2000000\n",
            "9/9 [==============================] - 2s 277ms/step - loss: 2.4442 - pitch_loss: 1.5044 - duration_loss: 0.9399 - val_loss: 4.9231 - val_pitch_loss: 3.3925 - val_duration_loss: 1.5306\n",
            "Epoch 34/2000000\n",
            "9/9 [==============================] - 3s 302ms/step - loss: 2.2989 - pitch_loss: 1.3994 - duration_loss: 0.8995 - val_loss: 4.9265 - val_pitch_loss: 3.3556 - val_duration_loss: 1.5709\n",
            "Epoch 35/2000000\n",
            "9/9 [==============================] - 2s 271ms/step - loss: 2.3154 - pitch_loss: 1.4036 - duration_loss: 0.9118 - val_loss: 5.0195 - val_pitch_loss: 3.4441 - val_duration_loss: 1.5754\n",
            "Epoch 36/2000000\n",
            "9/9 [==============================] - 3s 291ms/step - loss: 2.1694 - pitch_loss: 1.3384 - duration_loss: 0.8310 - val_loss: 5.2929 - val_pitch_loss: 3.7847 - val_duration_loss: 1.5082\n",
            "Epoch 37/2000000\n",
            "9/9 [==============================] - 2s 277ms/step - loss: 2.3104 - pitch_loss: 1.4337 - duration_loss: 0.8768 - val_loss: 5.0116 - val_pitch_loss: 3.3626 - val_duration_loss: 1.6490\n",
            "Epoch 38/2000000\n",
            "9/9 [==============================] - 3s 291ms/step - loss: 2.1462 - pitch_loss: 1.3173 - duration_loss: 0.8289 - val_loss: 5.3621 - val_pitch_loss: 3.7863 - val_duration_loss: 1.5758\n",
            "Epoch 39/2000000\n",
            "9/9 [==============================] - 3s 296ms/step - loss: 2.1305 - pitch_loss: 1.3211 - duration_loss: 0.8094 - val_loss: 5.3722 - val_pitch_loss: 3.7154 - val_duration_loss: 1.6569\n",
            "Epoch 40/2000000\n",
            "9/9 [==============================] - 3s 280ms/step - loss: 2.1651 - pitch_loss: 1.3379 - duration_loss: 0.8272 - val_loss: 5.8880 - val_pitch_loss: 4.3125 - val_duration_loss: 1.5755\n",
            "Epoch 41/2000000\n",
            "9/9 [==============================] - 3s 298ms/step - loss: 1.9919 - pitch_loss: 1.2378 - duration_loss: 0.7541 - val_loss: 5.5147 - val_pitch_loss: 3.8880 - val_duration_loss: 1.6267\n",
            "Epoch 42/2000000\n",
            "9/9 [==============================] - 3s 286ms/step - loss: 1.9422 - pitch_loss: 1.2035 - duration_loss: 0.7387 - val_loss: 5.5021 - val_pitch_loss: 3.8992 - val_duration_loss: 1.6029\n",
            "Epoch 43/2000000\n",
            "9/9 [==============================] - 3s 292ms/step - loss: 1.8714 - pitch_loss: 1.1789 - duration_loss: 0.6925 - val_loss: 5.5507 - val_pitch_loss: 3.9112 - val_duration_loss: 1.6396\n",
            "Epoch 44/2000000\n",
            "9/9 [==============================] - 3s 283ms/step - loss: 1.9099 - pitch_loss: 1.2201 - duration_loss: 0.6898 - val_loss: 5.3554 - val_pitch_loss: 3.7600 - val_duration_loss: 1.5953\n",
            "Epoch 45/2000000\n",
            "9/9 [==============================] - 2s 278ms/step - loss: 1.9072 - pitch_loss: 1.1895 - duration_loss: 0.7178 - val_loss: 5.3830 - val_pitch_loss: 3.8125 - val_duration_loss: 1.5705\n",
            "Epoch 46/2000000\n",
            "9/9 [==============================] - 3s 316ms/step - loss: 1.8415 - pitch_loss: 1.1755 - duration_loss: 0.6660 - val_loss: 5.7341 - val_pitch_loss: 3.9647 - val_duration_loss: 1.7694\n",
            "Epoch 47/2000000\n",
            "9/9 [==============================] - 3s 294ms/step - loss: 1.7074 - pitch_loss: 1.0991 - duration_loss: 0.6084 - val_loss: 6.0009 - val_pitch_loss: 4.2044 - val_duration_loss: 1.7965\n",
            "Epoch 48/2000000\n",
            "9/9 [==============================] - 3s 284ms/step - loss: 1.6797 - pitch_loss: 1.0906 - duration_loss: 0.5891 - val_loss: 5.8064 - val_pitch_loss: 4.1892 - val_duration_loss: 1.6173\n",
            "Epoch 49/2000000\n",
            "9/9 [==============================] - 3s 282ms/step - loss: 1.5776 - pitch_loss: 1.0290 - duration_loss: 0.5486 - val_loss: 6.3384 - val_pitch_loss: 4.4329 - val_duration_loss: 1.9055\n",
            "Epoch 50/2000000\n",
            "9/9 [==============================] - 3s 282ms/step - loss: 1.7563 - pitch_loss: 1.0879 - duration_loss: 0.6684 - val_loss: 6.0890 - val_pitch_loss: 4.2251 - val_duration_loss: 1.8639\n",
            "Epoch 51/2000000\n",
            "9/9 [==============================] - 2s 273ms/step - loss: 1.6923 - pitch_loss: 1.0745 - duration_loss: 0.6178 - val_loss: 5.4497 - val_pitch_loss: 3.8407 - val_duration_loss: 1.6090\n",
            "Epoch 52/2000000\n",
            "9/9 [==============================] - 3s 333ms/step - loss: 1.5080 - pitch_loss: 0.9699 - duration_loss: 0.5381 - val_loss: 6.1285 - val_pitch_loss: 4.2684 - val_duration_loss: 1.8600\n",
            "Epoch 53/2000000\n",
            "9/9 [==============================] - 3s 289ms/step - loss: 1.3717 - pitch_loss: 0.8803 - duration_loss: 0.4914 - val_loss: 6.0445 - val_pitch_loss: 3.9909 - val_duration_loss: 2.0536\n",
            "Epoch 54/2000000\n",
            "9/9 [==============================] - 3s 278ms/step - loss: 1.4541 - pitch_loss: 0.9286 - duration_loss: 0.5255 - val_loss: 5.9698 - val_pitch_loss: 3.9452 - val_duration_loss: 2.0246\n",
            "Epoch 55/2000000\n",
            "9/9 [==============================] - 2s 274ms/step - loss: 1.5813 - pitch_loss: 1.0167 - duration_loss: 0.5645 - val_loss: 6.2009 - val_pitch_loss: 4.2182 - val_duration_loss: 1.9827\n",
            "Epoch 56/2000000\n",
            "9/9 [==============================] - 3s 280ms/step - loss: 1.4841 - pitch_loss: 0.9556 - duration_loss: 0.5285 - val_loss: 5.8992 - val_pitch_loss: 4.0022 - val_duration_loss: 1.8970\n",
            "Epoch 57/2000000\n",
            "9/9 [==============================] - 3s 306ms/step - loss: 1.3465 - pitch_loss: 0.8754 - duration_loss: 0.4711 - val_loss: 6.2381 - val_pitch_loss: 4.4043 - val_duration_loss: 1.8338\n",
            "Epoch 58/2000000\n",
            "9/9 [==============================] - 3s 289ms/step - loss: 1.2445 - pitch_loss: 0.7896 - duration_loss: 0.4549 - val_loss: 6.2306 - val_pitch_loss: 4.3481 - val_duration_loss: 1.8825\n",
            "Epoch 59/2000000\n",
            "9/9 [==============================] - 2s 275ms/step - loss: 1.3016 - pitch_loss: 0.8565 - duration_loss: 0.4451 - val_loss: 6.9516 - val_pitch_loss: 4.8744 - val_duration_loss: 2.0771\n",
            "Epoch 60/2000000\n",
            "9/9 [==============================] - 2s 276ms/step - loss: 1.3172 - pitch_loss: 0.8589 - duration_loss: 0.4583 - val_loss: 6.1752 - val_pitch_loss: 4.3395 - val_duration_loss: 1.8357\n",
            "Epoch 61/2000000\n",
            "9/9 [==============================] - 3s 299ms/step - loss: 1.1415 - pitch_loss: 0.7437 - duration_loss: 0.3979 - val_loss: 6.4137 - val_pitch_loss: 4.4560 - val_duration_loss: 1.9577\n",
            "Epoch 62/2000000\n",
            "9/9 [==============================] - 3s 296ms/step - loss: 1.1183 - pitch_loss: 0.7308 - duration_loss: 0.3876 - val_loss: 6.6286 - val_pitch_loss: 4.6005 - val_duration_loss: 2.0282\n",
            "Epoch 63/2000000\n",
            "9/9 [==============================] - 2s 273ms/step - loss: 1.2171 - pitch_loss: 0.7943 - duration_loss: 0.4228 - val_loss: 6.8002 - val_pitch_loss: 4.7229 - val_duration_loss: 2.0773\n",
            "Epoch 64/2000000\n",
            "9/9 [==============================] - 2s 275ms/step - loss: 1.3831 - pitch_loss: 0.8890 - duration_loss: 0.4941 - val_loss: 6.6647 - val_pitch_loss: 4.7071 - val_duration_loss: 1.9576\n",
            "Epoch 65/2000000\n",
            "9/9 [==============================] - 3s 286ms/step - loss: 1.1678 - pitch_loss: 0.7399 - duration_loss: 0.4279 - val_loss: 6.6222 - val_pitch_loss: 4.6363 - val_duration_loss: 1.9858\n",
            "Epoch 66/2000000\n",
            "9/9 [==============================] - 3s 307ms/step - loss: 1.0442 - pitch_loss: 0.6812 - duration_loss: 0.3630 - val_loss: 6.7217 - val_pitch_loss: 4.7319 - val_duration_loss: 1.9898\n",
            "Epoch 67/2000000\n",
            "9/9 [==============================] - 3s 290ms/step - loss: 1.0191 - pitch_loss: 0.6640 - duration_loss: 0.3551 - val_loss: 6.9276 - val_pitch_loss: 4.6852 - val_duration_loss: 2.2423\n",
            "Epoch 68/2000000\n",
            "9/9 [==============================] - 2s 276ms/step - loss: 1.1524 - pitch_loss: 0.7554 - duration_loss: 0.3970 - val_loss: 5.9834 - val_pitch_loss: 4.0467 - val_duration_loss: 1.9367\n",
            "Epoch 69/2000000\n",
            "9/9 [==============================] - 3s 292ms/step - loss: 0.9692 - pitch_loss: 0.6356 - duration_loss: 0.3336 - val_loss: 5.9081 - val_pitch_loss: 3.9824 - val_duration_loss: 1.9258\n",
            "Epoch 70/2000000\n",
            "9/9 [==============================] - 3s 284ms/step - loss: 1.0087 - pitch_loss: 0.6631 - duration_loss: 0.3456 - val_loss: 6.6369 - val_pitch_loss: 4.7023 - val_duration_loss: 1.9346\n",
            "Epoch 71/2000000\n",
            "9/9 [==============================] - 3s 291ms/step - loss: 0.9504 - pitch_loss: 0.5915 - duration_loss: 0.3589 - val_loss: 6.4572 - val_pitch_loss: 4.2944 - val_duration_loss: 2.1629\n",
            "Epoch 72/2000000\n",
            "9/9 [==============================] - 3s 279ms/step - loss: 0.9863 - pitch_loss: 0.6197 - duration_loss: 0.3665 - val_loss: 6.8489 - val_pitch_loss: 4.8395 - val_duration_loss: 2.0093\n",
            "Epoch 73/2000000\n",
            "9/9 [==============================] - 3s 281ms/step - loss: 1.0381 - pitch_loss: 0.6663 - duration_loss: 0.3717 - val_loss: 6.8476 - val_pitch_loss: 4.8128 - val_duration_loss: 2.0348\n",
            "Epoch 74/2000000\n",
            "9/9 [==============================] - 3s 308ms/step - loss: 0.8668 - pitch_loss: 0.5510 - duration_loss: 0.3158 - val_loss: 6.3423 - val_pitch_loss: 4.3564 - val_duration_loss: 1.9859\n",
            "Epoch 75/2000000\n",
            "9/9 [==============================] - 3s 278ms/step - loss: 0.8900 - pitch_loss: 0.5616 - duration_loss: 0.3284 - val_loss: 6.7020 - val_pitch_loss: 4.5589 - val_duration_loss: 2.1431\n",
            "Epoch 76/2000000\n",
            "9/9 [==============================] - 2s 273ms/step - loss: 0.9697 - pitch_loss: 0.6168 - duration_loss: 0.3530 - val_loss: 7.2678 - val_pitch_loss: 5.0942 - val_duration_loss: 2.1736\n",
            "Epoch 77/2000000\n",
            "9/9 [==============================] - 3s 288ms/step - loss: 0.8570 - pitch_loss: 0.5583 - duration_loss: 0.2987 - val_loss: 7.1531 - val_pitch_loss: 5.0990 - val_duration_loss: 2.0541\n",
            "Epoch 78/2000000\n",
            "9/9 [==============================] - 3s 280ms/step - loss: 0.9508 - pitch_loss: 0.5801 - duration_loss: 0.3707 - val_loss: 6.9995 - val_pitch_loss: 4.8260 - val_duration_loss: 2.1735\n",
            "Epoch 79/2000000\n",
            "9/9 [==============================] - 2s 275ms/step - loss: 0.9761 - pitch_loss: 0.5867 - duration_loss: 0.3895 - val_loss: 7.1195 - val_pitch_loss: 4.9933 - val_duration_loss: 2.1262\n",
            "Epoch 80/2000000\n",
            "9/9 [==============================] - 3s 323ms/step - loss: 0.7543 - pitch_loss: 0.4828 - duration_loss: 0.2715 - val_loss: 7.1905 - val_pitch_loss: 5.0282 - val_duration_loss: 2.1623\n",
            "Epoch 81/2000000\n",
            "9/9 [==============================] - 3s 279ms/step - loss: 0.8252 - pitch_loss: 0.5238 - duration_loss: 0.3014 - val_loss: 7.5444 - val_pitch_loss: 5.4066 - val_duration_loss: 2.1378\n",
            "Epoch 82/2000000\n",
            "9/9 [==============================] - 2s 273ms/step - loss: 0.9007 - pitch_loss: 0.5894 - duration_loss: 0.3113 - val_loss: 7.1632 - val_pitch_loss: 4.9252 - val_duration_loss: 2.2380\n",
            "Epoch 83/2000000\n",
            "9/9 [==============================] - 3s 292ms/step - loss: 0.6790 - pitch_loss: 0.4323 - duration_loss: 0.2467 - val_loss: 7.4456 - val_pitch_loss: 5.1872 - val_duration_loss: 2.2584\n",
            "Epoch 84/2000000\n",
            "9/9 [==============================] - 3s 278ms/step - loss: 0.7437 - pitch_loss: 0.4752 - duration_loss: 0.2685 - val_loss: 7.4056 - val_pitch_loss: 4.9775 - val_duration_loss: 2.4281\n",
            "Epoch 85/2000000\n",
            "9/9 [==============================] - 2s 273ms/step - loss: 0.7771 - pitch_loss: 0.5043 - duration_loss: 0.2728 - val_loss: 7.5101 - val_pitch_loss: 5.1522 - val_duration_loss: 2.3579\n",
            "Epoch 86/2000000\n",
            "9/9 [==============================] - 3s 317ms/step - loss: 0.6659 - pitch_loss: 0.4364 - duration_loss: 0.2295 - val_loss: 7.5853 - val_pitch_loss: 5.2833 - val_duration_loss: 2.3020\n",
            "Epoch 87/2000000\n",
            "9/9 [==============================] - 3s 280ms/step - loss: 0.8537 - pitch_loss: 0.5679 - duration_loss: 0.2858 - val_loss: 7.5107 - val_pitch_loss: 5.0492 - val_duration_loss: 2.4616\n",
            "Epoch 88/2000000\n",
            "9/9 [==============================] - 3s 289ms/step - loss: 0.5805 - pitch_loss: 0.3758 - duration_loss: 0.2047 - val_loss: 7.6613 - val_pitch_loss: 5.1927 - val_duration_loss: 2.4686\n",
            "Epoch 89/2000000\n",
            "9/9 [==============================] - 2s 274ms/step - loss: 0.8053 - pitch_loss: 0.5162 - duration_loss: 0.2892 - val_loss: 7.8674 - val_pitch_loss: 5.4675 - val_duration_loss: 2.3999\n",
            "Epoch 90/2000000\n",
            "9/9 [==============================] - 3s 284ms/step - loss: 0.7606 - pitch_loss: 0.4643 - duration_loss: 0.2963 - val_loss: 7.9804 - val_pitch_loss: 5.3365 - val_duration_loss: 2.6440\n",
            "Epoch 91/2000000\n",
            "9/9 [==============================] - 2s 276ms/step - loss: 0.6114 - pitch_loss: 0.3774 - duration_loss: 0.2340 - val_loss: 7.6485 - val_pitch_loss: 5.2108 - val_duration_loss: 2.4377\n",
            "Epoch 92/2000000\n",
            "9/9 [==============================] - 2s 278ms/step - loss: 0.6541 - pitch_loss: 0.4354 - duration_loss: 0.2188 - val_loss: 7.8476 - val_pitch_loss: 5.2502 - val_duration_loss: 2.5974\n",
            "Epoch 93/2000000\n",
            "9/9 [==============================] - 2s 277ms/step - loss: 0.7480 - pitch_loss: 0.4567 - duration_loss: 0.2913 - val_loss: 7.7366 - val_pitch_loss: 5.2614 - val_duration_loss: 2.4752\n",
            "Epoch 94/2000000\n",
            "9/9 [==============================] - 3s 314ms/step - loss: 0.5611 - pitch_loss: 0.3585 - duration_loss: 0.2026 - val_loss: 7.7320 - val_pitch_loss: 5.1804 - val_duration_loss: 2.5516\n",
            "Epoch 95/2000000\n",
            "9/9 [==============================] - 3s 278ms/step - loss: 0.7091 - pitch_loss: 0.4677 - duration_loss: 0.2414 - val_loss: 7.9540 - val_pitch_loss: 5.4053 - val_duration_loss: 2.5487\n",
            "Epoch 96/2000000\n",
            "9/9 [==============================] - 3s 282ms/step - loss: 0.6787 - pitch_loss: 0.4301 - duration_loss: 0.2486 - val_loss: 7.9778 - val_pitch_loss: 5.5122 - val_duration_loss: 2.4656\n",
            "Epoch 97/2000000\n",
            "9/9 [==============================] - 3s 290ms/step - loss: 0.5131 - pitch_loss: 0.3301 - duration_loss: 0.1830 - val_loss: 8.1438 - val_pitch_loss: 5.4101 - val_duration_loss: 2.7337\n",
            "Epoch 98/2000000\n",
            "9/9 [==============================] - 3s 279ms/step - loss: 0.7668 - pitch_loss: 0.4826 - duration_loss: 0.2842 - val_loss: 7.8064 - val_pitch_loss: 5.2692 - val_duration_loss: 2.5372\n",
            "Epoch 99/2000000\n",
            "9/9 [==============================] - 2s 272ms/step - loss: 0.5290 - pitch_loss: 0.3449 - duration_loss: 0.1841 - val_loss: 8.0532 - val_pitch_loss: 5.4315 - val_duration_loss: 2.6218\n",
            "Epoch 100/2000000\n",
            "9/9 [==============================] - 3s 319ms/step - loss: 0.4578 - pitch_loss: 0.2824 - duration_loss: 0.1754 - val_loss: 8.1371 - val_pitch_loss: 5.6276 - val_duration_loss: 2.5095\n",
            "Epoch 101/2000000\n",
            "9/9 [==============================] - 2s 276ms/step - loss: 0.5863 - pitch_loss: 0.3840 - duration_loss: 0.2023 - val_loss: 8.0220 - val_pitch_loss: 5.4358 - val_duration_loss: 2.5862\n",
            "Epoch 102/2000000\n",
            "9/9 [==============================] - 2s 276ms/step - loss: 0.5253 - pitch_loss: 0.3336 - duration_loss: 0.1916 - val_loss: 8.2749 - val_pitch_loss: 5.5125 - val_duration_loss: 2.7624\n",
            "Epoch 103/2000000\n",
            "9/9 [==============================] - 2s 272ms/step - loss: 0.8779 - pitch_loss: 0.5682 - duration_loss: 0.3096 - val_loss: 8.2956 - val_pitch_loss: 5.6745 - val_duration_loss: 2.6212\n",
            "Epoch 104/2000000\n",
            "9/9 [==============================] - 3s 279ms/step - loss: 0.5531 - pitch_loss: 0.3526 - duration_loss: 0.2005 - val_loss: 8.2287 - val_pitch_loss: 5.4031 - val_duration_loss: 2.8256\n",
            "Epoch 105/2000000\n",
            "9/9 [==============================] - 3s 314ms/step - loss: 0.4471 - pitch_loss: 0.2759 - duration_loss: 0.1712 - val_loss: 8.2420 - val_pitch_loss: 5.3874 - val_duration_loss: 2.8546\n",
            "Epoch 106/2000000\n",
            "9/9 [==============================] - 3s 291ms/step - loss: 0.4401 - pitch_loss: 0.2632 - duration_loss: 0.1769 - val_loss: 8.6549 - val_pitch_loss: 5.8179 - val_duration_loss: 2.8369\n",
            "Epoch 107/2000000\n",
            "9/9 [==============================] - 2s 276ms/step - loss: 0.4907 - pitch_loss: 0.2863 - duration_loss: 0.2044 - val_loss: 8.8255 - val_pitch_loss: 5.9981 - val_duration_loss: 2.8274\n",
            "Epoch 108/2000000\n",
            "9/9 [==============================] - 2s 275ms/step - loss: 0.8309 - pitch_loss: 0.5453 - duration_loss: 0.2856 - val_loss: 8.3943 - val_pitch_loss: 5.5104 - val_duration_loss: 2.8839\n",
            "Epoch 109/2000000\n",
            "9/9 [==============================] - 3s 281ms/step - loss: 0.5069 - pitch_loss: 0.3223 - duration_loss: 0.1846 - val_loss: 8.5352 - val_pitch_loss: 5.6550 - val_duration_loss: 2.8802\n",
            "Epoch 110/2000000\n",
            "9/9 [==============================] - 3s 311ms/step - loss: 0.4302 - pitch_loss: 0.2688 - duration_loss: 0.1614 - val_loss: 8.4826 - val_pitch_loss: 5.5110 - val_duration_loss: 2.9716\n",
            "Epoch 111/2000000\n",
            "9/9 [==============================] - 2s 273ms/step - loss: 0.4880 - pitch_loss: 0.3050 - duration_loss: 0.1830 - val_loss: 8.5482 - val_pitch_loss: 5.6660 - val_duration_loss: 2.8822\n",
            "Epoch 112/2000000\n",
            "9/9 [==============================] - 2s 277ms/step - loss: 0.4527 - pitch_loss: 0.2832 - duration_loss: 0.1695 - val_loss: 8.7649 - val_pitch_loss: 5.8639 - val_duration_loss: 2.9009\n",
            "Epoch 113/2000000\n",
            "9/9 [==============================] - 3s 290ms/step - loss: 0.4168 - pitch_loss: 0.2605 - duration_loss: 0.1563 - val_loss: 8.3123 - val_pitch_loss: 5.8071 - val_duration_loss: 2.5052\n",
            "Epoch 114/2000000\n",
            "9/9 [==============================] - 3s 281ms/step - loss: 0.5475 - pitch_loss: 0.3198 - duration_loss: 0.2277 - val_loss: 8.6817 - val_pitch_loss: 5.7083 - val_duration_loss: 2.9734\n",
            "Epoch 115/2000000\n",
            "9/9 [==============================] - 2s 273ms/step - loss: 0.6589 - pitch_loss: 0.3925 - duration_loss: 0.2664 - val_loss: 8.6193 - val_pitch_loss: 5.8681 - val_duration_loss: 2.7512\n",
            "Epoch 116/2000000\n",
            "9/9 [==============================] - 3s 280ms/step - loss: 0.4728 - pitch_loss: 0.2866 - duration_loss: 0.1862 - val_loss: 9.0449 - val_pitch_loss: 5.9643 - val_duration_loss: 3.0806\n",
            "Epoch 117/2000000\n",
            "9/9 [==============================] - 3s 306ms/step - loss: 0.4012 - pitch_loss: 0.2441 - duration_loss: 0.1571 - val_loss: 8.8934 - val_pitch_loss: 5.9943 - val_duration_loss: 2.8991\n",
            "Epoch 118/2000000\n",
            "9/9 [==============================] - 2s 274ms/step - loss: 0.4148 - pitch_loss: 0.2497 - duration_loss: 0.1651 - val_loss: 8.8632 - val_pitch_loss: 5.8445 - val_duration_loss: 3.0187\n",
            "Epoch 119/2000000\n",
            "9/9 [==============================] - 3s 322ms/step - loss: 0.5671 - pitch_loss: 0.3672 - duration_loss: 0.1999 - val_loss: 8.8578 - val_pitch_loss: 5.7693 - val_duration_loss: 3.0884\n",
            "Epoch 120/2000000\n",
            "9/9 [==============================] - 4s 449ms/step - loss: 0.7362 - pitch_loss: 0.4429 - duration_loss: 0.2933 - val_loss: 8.5153 - val_pitch_loss: 5.5794 - val_duration_loss: 2.9359\n",
            "Epoch 121/2000000\n",
            "9/9 [==============================] - 4s 417ms/step - loss: 0.3917 - pitch_loss: 0.2437 - duration_loss: 0.1480 - val_loss: 8.8036 - val_pitch_loss: 5.8408 - val_duration_loss: 2.9629\n",
            "Epoch 122/2000000\n",
            "9/9 [==============================] - 3s 290ms/step - loss: 0.3512 - pitch_loss: 0.2157 - duration_loss: 0.1355 - val_loss: 8.9079 - val_pitch_loss: 5.8763 - val_duration_loss: 3.0316\n",
            "Epoch 123/2000000\n",
            "9/9 [==============================] - 2s 278ms/step - loss: 0.3806 - pitch_loss: 0.2403 - duration_loss: 0.1403 - val_loss: 9.0449 - val_pitch_loss: 6.0880 - val_duration_loss: 2.9569\n",
            "Epoch 124/2000000\n",
            "9/9 [==============================] - 2s 277ms/step - loss: 0.4129 - pitch_loss: 0.2520 - duration_loss: 0.1609 - val_loss: 8.7573 - val_pitch_loss: 5.8263 - val_duration_loss: 2.9309\n",
            "Epoch 125/2000000\n",
            "9/9 [==============================] - 3s 282ms/step - loss: 0.6502 - pitch_loss: 0.3758 - duration_loss: 0.2745 - val_loss: 8.9239 - val_pitch_loss: 5.9415 - val_duration_loss: 2.9824\n",
            "Epoch 126/2000000\n",
            "9/9 [==============================] - 3s 278ms/step - loss: 0.5434 - pitch_loss: 0.3070 - duration_loss: 0.2364 - val_loss: 8.7867 - val_pitch_loss: 5.8024 - val_duration_loss: 2.9844\n",
            "Epoch 127/2000000\n",
            "9/9 [==============================] - 2s 276ms/step - loss: 0.5415 - pitch_loss: 0.3437 - duration_loss: 0.1978 - val_loss: 8.9258 - val_pitch_loss: 6.0823 - val_duration_loss: 2.8436\n",
            "Epoch 128/2000000\n",
            "9/9 [==============================] - 2s 277ms/step - loss: 0.6544 - pitch_loss: 0.4245 - duration_loss: 0.2299 - val_loss: 8.6214 - val_pitch_loss: 5.6067 - val_duration_loss: 3.0147\n",
            "Epoch 129/2000000\n",
            "9/9 [==============================] - 2s 277ms/step - loss: 0.4183 - pitch_loss: 0.2493 - duration_loss: 0.1690 - val_loss: 8.4173 - val_pitch_loss: 5.5221 - val_duration_loss: 2.8952\n",
            "Epoch 130/2000000\n",
            "9/9 [==============================] - 2s 275ms/step - loss: 0.3777 - pitch_loss: 0.2197 - duration_loss: 0.1580 - val_loss: 8.8357 - val_pitch_loss: 5.8488 - val_duration_loss: 2.9869\n",
            "Epoch 131/2000000\n",
            "9/9 [==============================] - 3s 286ms/step - loss: 0.3613 - pitch_loss: 0.2126 - duration_loss: 0.1487 - val_loss: 8.7909 - val_pitch_loss: 5.8383 - val_duration_loss: 2.9527\n",
            "Epoch 132/2000000\n",
            "9/9 [==============================] - 3s 282ms/step - loss: 0.6890 - pitch_loss: 0.4048 - duration_loss: 0.2841 - val_loss: 8.3306 - val_pitch_loss: 5.4890 - val_duration_loss: 2.8415\n"
          ],
          "name": "stdout"
        },
        {
          "output_type": "execute_result",
          "data": {
            "text/plain": [
              "<tensorflow.python.keras.callbacks.History at 0x7f5364f336a0>"
            ]
          },
          "metadata": {
            "tags": []
          },
          "execution_count": 13
        }
      ]
    },
    {
      "cell_type": "code",
      "metadata": {
        "id": "-VXUTyAKszg1"
      },
      "source": [
        ""
      ],
      "execution_count": null,
      "outputs": []
    }
  ]
}